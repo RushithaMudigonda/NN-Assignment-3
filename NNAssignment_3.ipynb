{
 "cells": [
  {
   "cell_type": "code",
   "execution_count": 10,
   "id": "69bcc31b-4946-4fda-b1dd-29ece5491be3",
   "metadata": {},
   "outputs": [
    {
     "name": "stdout",
     "output_type": "stream",
     "text": [
      "full time employee Benefits.\n",
      "Average salary: 120000.0\n"
     ]
    }
   ],
   "source": [
    "#QUESTION 1\n",
    "#create a class employee\n",
    "class Employee:\n",
    "    #create a datamember to count the no.of employees\n",
    "    no_of_employees = 0\n",
    "\n",
    "    #create a constructor to initialize name,family,salary,department\n",
    "    def __init__(self, name, family_name, salary, department):\n",
    "        self.__name = name\n",
    "        self.__family_name = family_name\n",
    "        self.salary = salary\n",
    "        self.__department = department\n",
    "        Employee.no_of_employees += 1\n",
    "\n",
    "\n",
    "    #create a function to average salary\n",
    "    def average_salary(employees):\n",
    "        sum = 0\n",
    "        for employee in employees:\n",
    "            sum += employee.salary\n",
    "        return sum / Employee.no_of_employees\n",
    "    \n",
    "\n",
    "#create a fulltime emlpoyee class and it should inherit the properties of Employee class\n",
    "class FulltimeEmployee(Employee) :\n",
    "\n",
    "    def __init__(self, name, family_name, salary, department):\n",
    "        super().__init__(name, family_name, salary, department)\n",
    "\n",
    "    def full_time_benefits(self):\n",
    "        print(\"full time employee Benefits.\")\n",
    "    \n",
    "\n",
    "#create the instances of Fulltime Employee class and employee class and call their member functions\n",
    "def main():\n",
    "    employees = []\n",
    "    fte1 = FulltimeEmployee(\"E1\", \"Family1\", 90000, \"CSE\")\n",
    "    fte1.full_time_benefits()\n",
    "    employees.append(fte1)\n",
    "    fte2 = FulltimeEmployee(\"E2\", \"Family2\", 70000, \"IT\")\n",
    "    employees.append(fte2)\n",
    "    emp1 = Employee(\"E3\", \"Family3\", 300000, \"CIS\")\n",
    "    employees.append(emp1)\n",
    "    emp2 = Employee(\"E4\", \"Family4\", 20000, \"BD\")\n",
    "    employees.append(emp2)\n",
    "    print(\"Average salary:\", FulltimeEmployee.average_salary(employees))\n",
    "\n",
    "\n",
    "if __name__ == \"__main__\":\n",
    "    main()"
   ]
  },
  {
   "cell_type": "code",
   "execution_count": 7,
   "id": "7552d604-4b0a-415f-b6df-de9661b58205",
   "metadata": {},
   "outputs": [
    {
     "name": "stdout",
     "output_type": "stream",
     "text": [
      "Original array:\n",
      "[ 4.44048401  2.05942195 12.73659306  9.1296154  11.1093907  11.19137773\n",
      "  2.71486607 13.12790365 13.50100704  7.01970149  5.95924017  8.36688688\n",
      "  8.66076456 11.12120543  5.55340687]\n",
      "Reshaped Array: \n",
      "[[ 4.44048401  2.05942195 12.73659306  9.1296154  11.1093907 ]\n",
      " [11.19137773  2.71486607 13.12790365 13.50100704  7.01970149]\n",
      " [ 5.95924017  8.36688688  8.66076456 11.12120543  5.55340687]]\n",
      "Maximum value replaced by 0:\n",
      "[[ 4.44048401  2.05942195  0.          9.1296154  11.1093907 ]\n",
      " [11.19137773  2.71486607 13.12790365  0.          7.01970149]\n",
      " [ 5.95924017  8.36688688  8.66076456  0.          5.55340687]]\n"
     ]
    }
   ],
   "source": [
    "#QUESTION2 \n",
    "#create a randomm vector of size 20 having only float in the range 1-20\n",
    "import numpy as np\n",
    "x=np.random.uniform(1,20,20)\n",
    "print(\"Original array:\")\n",
    "print(x)\n",
    "#reshape the array to 4 by 5\n",
    "x1=x.reshape(3,5)\n",
    "print(\"Reshaped Array: \")\n",
    "print(x1)\n",
    "#replace the max in each row by 0\n",
    "x1[np.arange(len(x1)), x1.argmax(1)]=0\n",
    "print(\"Maximum value replaced by 0:\")\n",
    "print(x1)"
   ]
  },
  {
   "cell_type": "code",
   "execution_count": null,
   "id": "df34df7c-5bb8-4708-854f-03974bf2d945",
   "metadata": {},
   "outputs": [],
   "source": []
  },
  {
   "cell_type": "code",
   "execution_count": null,
   "id": "1beac907-a622-4ed3-ab07-8cd97dc21274",
   "metadata": {},
   "outputs": [],
   "source": []
  }
 ],
 "metadata": {
  "kernelspec": {
   "display_name": "Python 3 (ipykernel)",
   "language": "python",
   "name": "python3"
  },
  "language_info": {
   "codemirror_mode": {
    "name": "ipython",
    "version": 3
   },
   "file_extension": ".py",
   "mimetype": "text/x-python",
   "name": "python",
   "nbconvert_exporter": "python",
   "pygments_lexer": "ipython3",
   "version": "3.12.1"
  }
 },
 "nbformat": 4,
 "nbformat_minor": 5
}
